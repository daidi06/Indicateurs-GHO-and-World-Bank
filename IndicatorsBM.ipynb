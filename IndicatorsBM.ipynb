{
 "cells": [
  {
   "cell_type": "code",
   "execution_count": 39,
   "metadata": {},
   "outputs": [],
   "source": [
    "import pandas as pd\n",
    "import matplotlib.pyplot as plt\n",
    "import wbgapi as wb\n",
    "import os\n",
    "pd.set_option('display.max_rows', None)\n",
    "pd.set_option('display.max_columns', None)\n",
    "pd.set_option('display.width', None)\n",
    "pd.set_option('display.max_colwidth', None)"
   ]
  },
  {
   "cell_type": "code",
   "execution_count": 17,
   "metadata": {},
   "outputs": [],
   "source": [
    "gdppercap5=wb.data.DataFrame('SH.H2O.SMDW.ZS', \n",
    "                             wb.region.members('AFR'), \n",
    "                             #time = range(2000, 2022,1), \n",
    "                             skipBlanks=True, columns='series', \n",
    "                             labels = True)\n",
    "#gdppercap5"
   ]
  },
  {
   "cell_type": "code",
   "execution_count": 18,
   "metadata": {
    "scrolled": true
   },
   "outputs": [],
   "source": [
    "gdppercap5= gdppercap5.reset_index()"
   ]
  },
  {
   "cell_type": "code",
   "execution_count": 19,
   "metadata": {},
   "outputs": [
    {
     "data": {
      "text/plain": [
       "Index(['economy', 'time', 'Country', 'Time', 'SH.H2O.SMDW.ZS'], dtype='object')"
      ]
     },
     "execution_count": 19,
     "metadata": {},
     "output_type": "execute_result"
    }
   ],
   "source": [
    "gdppercap5.columns"
   ]
  },
  {
   "cell_type": "code",
   "execution_count": 20,
   "metadata": {},
   "outputs": [],
   "source": [
    "gdppercap5 = gdppercap5[['Country', 'Time', 'SH.H2O.SMDW.ZS']]"
   ]
  },
  {
   "cell_type": "code",
   "execution_count": 21,
   "metadata": {},
   "outputs": [],
   "source": [
    "IndicatorCode = 'SH.H2O.SMDW.ZS'\n",
    "gdppercap5.rename(columns={'Time': 'Start_Period', IndicatorCode :\"Value_received\"}, inplace=True)\n",
    "gdppercap5.loc[:,'End_Period'] = gdppercap5.loc[:,'Start_Period']"
   ]
  },
  {
   "cell_type": "code",
   "execution_count": 22,
   "metadata": {},
   "outputs": [
    {
     "data": {
      "text/html": [
       "<div>\n",
       "<style scoped>\n",
       "    .dataframe tbody tr th:only-of-type {\n",
       "        vertical-align: middle;\n",
       "    }\n",
       "\n",
       "    .dataframe tbody tr th {\n",
       "        vertical-align: top;\n",
       "    }\n",
       "\n",
       "    .dataframe thead th {\n",
       "        text-align: right;\n",
       "    }\n",
       "</style>\n",
       "<table border=\"1\" class=\"dataframe\">\n",
       "  <thead>\n",
       "    <tr style=\"text-align: right;\">\n",
       "      <th></th>\n",
       "      <th>Country</th>\n",
       "      <th>Start_Period</th>\n",
       "      <th>Value_received</th>\n",
       "      <th>End_Period</th>\n",
       "    </tr>\n",
       "  </thead>\n",
       "  <tbody>\n",
       "    <tr>\n",
       "      <th>0</th>\n",
       "      <td>Cote d'Ivoire</td>\n",
       "      <td>2020</td>\n",
       "      <td>35.204784</td>\n",
       "      <td>2020</td>\n",
       "    </tr>\n",
       "    <tr>\n",
       "      <th>1</th>\n",
       "      <td>Cote d'Ivoire</td>\n",
       "      <td>2019</td>\n",
       "      <td>35.139220</td>\n",
       "      <td>2019</td>\n",
       "    </tr>\n",
       "    <tr>\n",
       "      <th>2</th>\n",
       "      <td>Cote d'Ivoire</td>\n",
       "      <td>2018</td>\n",
       "      <td>35.076462</td>\n",
       "      <td>2018</td>\n",
       "    </tr>\n",
       "    <tr>\n",
       "      <th>3</th>\n",
       "      <td>Cote d'Ivoire</td>\n",
       "      <td>2017</td>\n",
       "      <td>35.016508</td>\n",
       "      <td>2017</td>\n",
       "    </tr>\n",
       "    <tr>\n",
       "      <th>4</th>\n",
       "      <td>Cote d'Ivoire</td>\n",
       "      <td>2016</td>\n",
       "      <td>34.959756</td>\n",
       "      <td>2016</td>\n",
       "    </tr>\n",
       "  </tbody>\n",
       "</table>\n",
       "</div>"
      ],
      "text/plain": [
       "         Country Start_Period  Value_received End_Period\n",
       "0  Cote d'Ivoire         2020       35.204784       2020\n",
       "1  Cote d'Ivoire         2019       35.139220       2019\n",
       "2  Cote d'Ivoire         2018       35.076462       2018\n",
       "3  Cote d'Ivoire         2017       35.016508       2017\n",
       "4  Cote d'Ivoire         2016       34.959756       2016"
      ]
     },
     "execution_count": 22,
     "metadata": {},
     "output_type": "execute_result"
    }
   ],
   "source": [
    "gdppercap5.head()"
   ]
  },
  {
   "cell_type": "code",
   "execution_count": null,
   "metadata": {},
   "outputs": [],
   "source": []
  },
  {
   "cell_type": "code",
   "execution_count": 45,
   "metadata": {},
   "outputs": [],
   "source": [
    "Afro_Countries = ['Angola', 'Burundi', 'Benin', 'Burkina Faso', 'Botswana',\n",
    "       'Central African Republic', \"Cote d'Ivoire\", 'Cameroon',\n",
    "       'Congo, Dem. Rep.', 'Congo, Rep.', 'Comoros',\n",
    "       'Cabo Verde', 'Algeria', 'Eritrea', 'Ethiopia', 'Gabon', 'Ghana',\n",
    "       'Guinea', 'Gambia, The', 'Guinea-Bissau', 'Equatorial Guinea', 'Kenya',\n",
    "       'Liberia', 'Lesotho', 'Madagascar', 'Mali', 'Mozambique',\n",
    "       'Mauritania', 'Mauritius', 'Malawi', 'Namibia', 'Niger', 'Nigeria',\n",
    "       'Rwanda', 'Senegal', 'Sierra Leone', 'South Sudan',\n",
    "       'Sao Tome and Principe', 'Eswatini', 'Seychelles', 'Chad', 'Togo',\n",
    "       'Tanzania', 'Uganda', 'South Africa', 'Zambia',\n",
    "       'Zimbabwe', 'Africa']"
   ]
  },
  {
   "cell_type": "code",
   "execution_count": 46,
   "metadata": {},
   "outputs": [],
   "source": [
    "source = pd.DataFrame(wb.source.list())\n",
    "\n",
    "def IndicatorWB(IndicatorCode, Indicator_Name, mesure_Type, Options, fileName):\n",
    "    for i in list(source['id']):\n",
    "        wb.db = i\n",
    "        try:\n",
    "            Indicator=wb.data.DataFrame(IndicatorCode,\n",
    "                                     wb.region.members('AFR'),\n",
    "                                     #time = range(2000, 2022,1),\n",
    "                                     skipBlanks=True, columns='series', \n",
    "                                     labels = True)\n",
    "            break\n",
    "        except:\n",
    "            pass\n",
    "        \n",
    "    Indicator = Indicator.reset_index()\n",
    "    Indicator = Indicator[['Country', 'Time', IndicatorCode]]\n",
    "    Indicator.rename(columns={'Time': 'Start_Period', IndicatorCode :\"Value_received\"}, inplace=True)\n",
    "    Indicator.loc[:,'End_Period'] = Indicator.loc[:,'Start_Period']\n",
    "    Indicator.loc[:,'Indicator_Name'] = Indicator_Name\n",
    "    Indicator.loc[:,'Measure_type'] = mesure_Type\n",
    "    Indicator.loc[:,'Options'] = Options\n",
    "    Indicator.loc[:,'Source'] = \"World Bank\"\n",
    "    \n",
    "    Indicator = Indicator[[\"Country\", 'Indicator_Name', 'Options', 'Start_Period', 'End_Period',\n",
    "                                \"Value_received\", 'Measure_type', 'Source']]\n",
    "    \n",
    "    Indicator = Indicator[Indicator[\"Country\"].isin(Afro_Countries)]\n",
    "    path = r'C:\\DownloadTest2'\n",
    "\n",
    "    # Check whether the specified path exists or not\n",
    "    isExist = os.path.exists(path)\n",
    "    \n",
    "    if not isExist:\n",
    "        # Create a new directory because it does not exist \n",
    "        os.makedirs(path)\n",
    "    Indicator.to_csv (path + '\\\\' + fileName + '.csv', index = False, header=True)"
   ]
  },
  {
   "cell_type": "code",
   "execution_count": 47,
   "metadata": {},
   "outputs": [],
   "source": [
    "IndicatorWB(\"SP.DYN.LE60.FE.IN\", \"Life expectancy at age 60 years\", \"Numeric\", \"Female\", \"WB3\")"
   ]
  },
  {
   "cell_type": "code",
   "execution_count": null,
   "metadata": {},
   "outputs": [],
   "source": []
  },
  {
   "cell_type": "code",
   "execution_count": null,
   "metadata": {},
   "outputs": [],
   "source": []
  },
  {
   "cell_type": "code",
   "execution_count": null,
   "metadata": {},
   "outputs": [],
   "source": [
    "ListOfIndicators = pd.read_csv(r'C:\\Moimeme\\IndicatorsCodeWB.csv', encoding='iso-8859-1')\n",
    "ListOfIndicators.head()"
   ]
  },
  {
   "cell_type": "code",
   "execution_count": null,
   "metadata": {},
   "outputs": [],
   "source": []
  },
  {
   "cell_type": "code",
   "execution_count": null,
   "metadata": {},
   "outputs": [],
   "source": [
    "import urllib\n",
    "for index, row in ListOfIndicators.iterrows():\n",
    "    try:\n",
    "        IndicatorWB(row['IndicatorCodeWB'], row['Indicator'], row['Mesure_Type'], row['Options'],row['FileName'])\n",
    "    except:\n",
    "        pass"
   ]
  },
  {
   "cell_type": "code",
   "execution_count": null,
   "metadata": {},
   "outputs": [],
   "source": []
  },
  {
   "cell_type": "code",
   "execution_count": null,
   "metadata": {},
   "outputs": [],
   "source": [
    "# Set the path of the csv files\n",
    "path = r'C:\\\\DownloadTest2'\n",
    "\n",
    "# create an empty pandas data frame\n",
    "df = pd.DataFrame()\n",
    " \n",
    "# iterate over all files within \"My_Folder\"\n",
    "for file in os.listdir(path):\n",
    "    if file.endswith(\".csv\"):\n",
    "        df = pd.concat([df , pd.read_csv(os.path.join(path, file))], axis=0 )\n",
    " \n",
    "# reset the index \n",
    "df.reset_index(drop=True, inplace=True)\n",
    "\n",
    "df.to_csv (path + '\\\\' + 'AllTheIndicatorsWB' + '.csv', index = False, header=True)\n"
   ]
  },
  {
   "cell_type": "code",
   "execution_count": null,
   "metadata": {},
   "outputs": [],
   "source": []
  },
  {
   "cell_type": "code",
   "execution_count": null,
   "metadata": {},
   "outputs": [],
   "source": []
  }
 ],
 "metadata": {
  "kernelspec": {
   "display_name": "Python 3",
   "language": "python",
   "name": "python3"
  },
  "language_info": {
   "codemirror_mode": {
    "name": "ipython",
    "version": 3
   },
   "file_extension": ".py",
   "mimetype": "text/x-python",
   "name": "python",
   "nbconvert_exporter": "python",
   "pygments_lexer": "ipython3",
   "version": "3.8.5"
  }
 },
 "nbformat": 4,
 "nbformat_minor": 4
}
