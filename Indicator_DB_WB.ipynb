{
 "cells": [
  {
   "cell_type": "code",
   "execution_count": 1,
   "metadata": {},
   "outputs": [],
   "source": [
    "import pandas as pd\n",
    "import matplotlib.pyplot as plt\n",
    "import wbgapi as wb\n",
    "import os\n",
    "pd.set_option('display.max_rows', None)\n",
    "pd.set_option('display.max_columns', None)\n",
    "pd.set_option('display.width', None)\n",
    "pd.set_option('display.max_colwidth', None)"
   ]
  },
  {
   "cell_type": "code",
   "execution_count": 2,
   "metadata": {},
   "outputs": [],
   "source": [
    "source = pd.DataFrame(wb.source.list())"
   ]
  },
  {
   "cell_type": "code",
   "execution_count": 3,
   "metadata": {},
   "outputs": [
    {
     "data": {
      "text/plain": [
       "(68, 10)"
      ]
     },
     "execution_count": 3,
     "metadata": {},
     "output_type": "execute_result"
    }
   ],
   "source": [
    "source.shape"
   ]
  },
  {
   "cell_type": "code",
   "execution_count": 5,
   "metadata": {},
   "outputs": [],
   "source": [
    "wb.db = 2"
   ]
  },
  {
   "cell_type": "code",
   "execution_count": 6,
   "metadata": {},
   "outputs": [],
   "source": [
    "ex = wb.series.Series()"
   ]
  },
  {
   "cell_type": "code",
   "execution_count": 8,
   "metadata": {},
   "outputs": [],
   "source": [
    "test = pd.DataFrame(ex).reset_index()"
   ]
  },
  {
   "cell_type": "code",
   "execution_count": 9,
   "metadata": {
    "scrolled": true
   },
   "outputs": [
    {
     "data": {
      "text/html": [
       "<div>\n",
       "<style scoped>\n",
       "    .dataframe tbody tr th:only-of-type {\n",
       "        vertical-align: middle;\n",
       "    }\n",
       "\n",
       "    .dataframe tbody tr th {\n",
       "        vertical-align: top;\n",
       "    }\n",
       "\n",
       "    .dataframe thead th {\n",
       "        text-align: right;\n",
       "    }\n",
       "</style>\n",
       "<table border=\"1\" class=\"dataframe\">\n",
       "  <thead>\n",
       "    <tr style=\"text-align: right;\">\n",
       "      <th></th>\n",
       "      <th>index</th>\n",
       "      <th>SeriesName</th>\n",
       "    </tr>\n",
       "  </thead>\n",
       "  <tbody>\n",
       "    <tr>\n",
       "      <th>0</th>\n",
       "      <td>AG.AGR.TRAC.NO</td>\n",
       "      <td>Agricultural machinery, tractors</td>\n",
       "    </tr>\n",
       "    <tr>\n",
       "      <th>1</th>\n",
       "      <td>AG.CON.FERT.PT.ZS</td>\n",
       "      <td>Fertilizer consumption (% of fertilizer production)</td>\n",
       "    </tr>\n",
       "    <tr>\n",
       "      <th>2</th>\n",
       "      <td>AG.CON.FERT.ZS</td>\n",
       "      <td>Fertilizer consumption (kilograms per hectare of arable land)</td>\n",
       "    </tr>\n",
       "    <tr>\n",
       "      <th>3</th>\n",
       "      <td>AG.LND.AGRI.K2</td>\n",
       "      <td>Agricultural land (sq. km)</td>\n",
       "    </tr>\n",
       "    <tr>\n",
       "      <th>4</th>\n",
       "      <td>AG.LND.AGRI.ZS</td>\n",
       "      <td>Agricultural land (% of land area)</td>\n",
       "    </tr>\n",
       "  </tbody>\n",
       "</table>\n",
       "</div>"
      ],
      "text/plain": [
       "               index  \\\n",
       "0     AG.AGR.TRAC.NO   \n",
       "1  AG.CON.FERT.PT.ZS   \n",
       "2     AG.CON.FERT.ZS   \n",
       "3     AG.LND.AGRI.K2   \n",
       "4     AG.LND.AGRI.ZS   \n",
       "\n",
       "                                                      SeriesName  \n",
       "0                               Agricultural machinery, tractors  \n",
       "1            Fertilizer consumption (% of fertilizer production)  \n",
       "2  Fertilizer consumption (kilograms per hectare of arable land)  \n",
       "3                                     Agricultural land (sq. km)  \n",
       "4                             Agricultural land (% of land area)  "
      ]
     },
     "execution_count": 9,
     "metadata": {},
     "output_type": "execute_result"
    }
   ],
   "source": [
    "test.head()"
   ]
  },
  {
   "cell_type": "code",
   "execution_count": 14,
   "metadata": {},
   "outputs": [
    {
     "data": {
      "text/plain": [
       "True"
      ]
     },
     "execution_count": 14,
     "metadata": {},
     "output_type": "execute_result"
    }
   ],
   "source": [
    "test[\"index\"].str.contains(\"AG.LND.AGRI.K2\").any()"
   ]
  },
  {
   "cell_type": "code",
   "execution_count": null,
   "metadata": {},
   "outputs": [],
   "source": []
  },
  {
   "cell_type": "code",
   "execution_count": 11,
   "metadata": {},
   "outputs": [
    {
     "data": {
      "text/html": [
       "<div>\n",
       "<style scoped>\n",
       "    .dataframe tbody tr th:only-of-type {\n",
       "        vertical-align: middle;\n",
       "    }\n",
       "\n",
       "    .dataframe tbody tr th {\n",
       "        vertical-align: top;\n",
       "    }\n",
       "\n",
       "    .dataframe thead th {\n",
       "        text-align: right;\n",
       "    }\n",
       "</style>\n",
       "<table border=\"1\" class=\"dataframe\">\n",
       "  <thead>\n",
       "    <tr style=\"text-align: right;\">\n",
       "      <th></th>\n",
       "      <th>afrocode</th>\n",
       "      <th>Indicator</th>\n",
       "      <th>IndicatorCodeWB</th>\n",
       "      <th>Options</th>\n",
       "      <th>Mesure_Type</th>\n",
       "      <th>fileName</th>\n",
       "    </tr>\n",
       "  </thead>\n",
       "  <tbody>\n",
       "    <tr>\n",
       "      <th>0</th>\n",
       "      <td>AFR0001</td>\n",
       "      <td>Average life expectancy at birth (in years)</td>\n",
       "      <td>SP.DYN.LE00.IN</td>\n",
       "      <td>NaN</td>\n",
       "      <td>Years</td>\n",
       "      <td>WBI1</td>\n",
       "    </tr>\n",
       "    <tr>\n",
       "      <th>1</th>\n",
       "      <td>AFR0003</td>\n",
       "      <td>Life expectancy at age 60 years</td>\n",
       "      <td>SP.DYN.LE60.FE.IN</td>\n",
       "      <td>Female</td>\n",
       "      <td>Years</td>\n",
       "      <td>WBI2</td>\n",
       "    </tr>\n",
       "    <tr>\n",
       "      <th>2</th>\n",
       "      <td>AFR0003</td>\n",
       "      <td>Life expectancy at age 60 years</td>\n",
       "      <td>SP.DYN.LE60.MA.IN</td>\n",
       "      <td>Male</td>\n",
       "      <td>Years</td>\n",
       "      <td>WBI3</td>\n",
       "    </tr>\n",
       "    <tr>\n",
       "      <th>3</th>\n",
       "      <td>AFR0004</td>\n",
       "      <td>Population size (in thousands) total</td>\n",
       "      <td>SP.POP.TOTL</td>\n",
       "      <td>NaN</td>\n",
       "      <td>in thousands</td>\n",
       "      <td>WBI4</td>\n",
       "    </tr>\n",
       "    <tr>\n",
       "      <th>4</th>\n",
       "      <td>AFR0005</td>\n",
       "      <td>Crude death rate (per 1 000 mid-year population)</td>\n",
       "      <td>SP.DYN.CDRT.IN</td>\n",
       "      <td>NaN</td>\n",
       "      <td>per 1000 mid-year population</td>\n",
       "      <td>WBI5</td>\n",
       "    </tr>\n",
       "  </tbody>\n",
       "</table>\n",
       "</div>"
      ],
      "text/plain": [
       "  afrocode                                         Indicator  \\\n",
       "0  AFR0001       Average life expectancy at birth (in years)   \n",
       "1  AFR0003                   Life expectancy at age 60 years   \n",
       "2  AFR0003                   Life expectancy at age 60 years   \n",
       "3  AFR0004              Population size (in thousands) total   \n",
       "4  AFR0005  Crude death rate (per 1 000 mid-year population)   \n",
       "\n",
       "     IndicatorCodeWB Options                   Mesure_Type fileName  \n",
       "0     SP.DYN.LE00.IN     NaN                         Years     WBI1  \n",
       "1  SP.DYN.LE60.FE.IN  Female                         Years     WBI2  \n",
       "2  SP.DYN.LE60.MA.IN    Male                         Years     WBI3  \n",
       "3        SP.POP.TOTL     NaN                  in thousands     WBI4  \n",
       "4     SP.DYN.CDRT.IN     NaN  per 1000 mid-year population     WBI5  "
      ]
     },
     "execution_count": 11,
     "metadata": {},
     "output_type": "execute_result"
    }
   ],
   "source": [
    "ListOfIndicators = pd.read_csv(r'C:\\Moimeme\\IndicatorsCodeWB.csv', encoding='iso-8859-1')\n",
    "ListOfIndicators.head()"
   ]
  },
  {
   "cell_type": "code",
   "execution_count": 12,
   "metadata": {},
   "outputs": [],
   "source": [
    "IndicatorCodeWB = []\n",
    "Db = []\n",
    "\n",
    "Indicators = ListOfIndicators[\"IndicatorCodeWB\"]\n",
    "\n",
    "source = pd.DataFrame(wb.source.list())\n",
    "for i in list(source['id']):\n",
    "    wb.db = i\n",
    "    test = pd.DataFrame(wb.series.Series()).reset_index()\n",
    "    Indicators = list(set(Indicators) - set(IndicatorCodeWB))\n",
    "    if (len(Indicators)>0):\n",
    "        CommunInd = list(set(Indicators).intersection(test[\"index\"]))\n",
    "        if (len(CommunInd)>0):\n",
    "            IndicatorCodeWB.extend(CommunInd)\n",
    "            for num in range(len(CommunInd)):\n",
    "                Db.append(i)\n",
    "    else:\n",
    "        break"
   ]
  },
  {
   "cell_type": "code",
   "execution_count": 13,
   "metadata": {},
   "outputs": [],
   "source": [
    "data = pd.DataFrame({'IndicatorCodeWB':IndicatorCodeWB, 'DataBase':Db})\n",
    "\n",
    "data.to_csv ('C:\\\\Moimeme\\\\IndicatorsDb.csv', index = False, header=True)"
   ]
  },
  {
   "cell_type": "code",
   "execution_count": null,
   "metadata": {},
   "outputs": [],
   "source": []
  }
 ],
 "metadata": {
  "kernelspec": {
   "display_name": "Python 3",
   "language": "python",
   "name": "python3"
  },
  "language_info": {
   "codemirror_mode": {
    "name": "ipython",
    "version": 3
   },
   "file_extension": ".py",
   "mimetype": "text/x-python",
   "name": "python",
   "nbconvert_exporter": "python",
   "pygments_lexer": "ipython3",
   "version": "3.8.5"
  }
 },
 "nbformat": 4,
 "nbformat_minor": 4
}
